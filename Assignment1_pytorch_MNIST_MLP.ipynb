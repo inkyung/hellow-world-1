{
  "nbformat": 4,
  "nbformat_minor": 0,
  "metadata": {
    "colab": {
      "name": "Assignment1_pytorch_MNIST_MLP.ipynb",
      "version": "0.3.2",
      "provenance": [],
      "collapsed_sections": [],
      "include_colab_link": true
    },
    "kernelspec": {
      "display_name": "Python (comet2)",
      "language": "python",
      "name": "comet2"
    }
  },
  "cells": [
    {
      "cell_type": "markdown",
      "metadata": {
        "id": "view-in-github",
        "colab_type": "text"
      },
      "source": [
        "<a href=\"https://colab.research.google.com/github/inkyung/hellow-world-1/blob/master/Assignment1_pytorch_MNIST_MLP.ipynb\" target=\"_parent\"><img src=\"https://colab.research.google.com/assets/colab-badge.svg\" alt=\"Open In Colab\"/></a>"
      ]
    },
    {
      "metadata": {
        "id": "X77AQ7i0h8BA",
        "colab_type": "text"
      },
      "cell_type": "markdown",
      "source": [
        "# Assignment1. MNIST Digit Recogntion\n",
        "\n",
        "이 과제에서는 손으로 쓴 숫자들의 이미지를 input으로 받아서 0~9 중 어느 숫자에 해당하는지를 분류하는 10-way Classification Problem을 풀어 볼 겁니다. 지금까지 실습은 가상의 인공 데이터셋이었다면 이번에는 real-world 데이터셋이니 좀 더 설레지 않나요?\n",
        "\n",
        "`pytorch` 내에 이미 구현되어 있는 MNIST Dataset을 사용하여 데이터가 공급됩니다.  \n",
        "대신 여러분들은 Model을 짜고 올바르게 Loss Function을 활용하는 코드를 작성하는데 집중해주시길 바랍니다.  \n",
        "\n",
        "1. 현재 Linear Model만 구현이 되어 있습니다. MLP Model을 2.Model Architecture 부분에 구현해주세요.\n",
        "2. MLP Model을 생성할 때 hidden unit 수와 hidden layer 수를 인풋으로 넣어주면 해당 값으로 MLP가 자동으로 생성되게 하는 코드를 구현해보세요.  \n",
        "3. 다양한 hidden_unit과 hidden_layer 그리고 learning rate를 바꿔가면서 정확도의 변화를 알려주세요(이 때 모델이 고정되었다면 learning rate부터 바꿔가면서 튜닝해보세요. 차트나 표를 자유롭게 활용하여 결과를 보여주세요.  \n",
        "4. 실험했던 결과 중 Test Set에 대한 Accuracy가 가장 높았던 실험 조건과 그때의 Accuracy를 알려주세요!  \n",
        "5. 양식은 따로 없으며 이 주피터 노트북의 뒷부분에 추가로 1~4의 내용을 덧붙여서 정리하면 되겠습니다!\n",
        "\n",
        "**과제 시 도저히 해결할 수 없는 애러나 질문 사항은 제 깃허브의 [Issue](https://github.com/heartcored98/Standalone-DeepLearning/issues)란에 새 이슈를 남겨주세요**\n",
        "\n",
        "**Due** : 2019-01-23 22:00  \n",
        "**How to Submit** : 여러분의 깃허브 저장소를 만드신 후 작업한 .ipynb 파일을 올려주신 후 파일의 url 주소를 강의 피드백 설문 중 과제 제출 섹션에 남겨주세요! 그럼 저희가 파일을 하나하나 다운받고 열람할 필요 없이 온라인 상에서 바로 확인하기에 용이합니다 :)\n",
        "\n",
        "\n",
        "**이 문서를 구글 Colab에서 쉽게 실행해보는법**  \n",
        "1. [제가 미리 만들어놓은 이 링크](https://colab.research.google.com/github/heartcored98/Standalone-DeepLearning/blob/master/Lec2/Assignment1_pytorch_MNIST_MLP.ipynb)를 눌러 본 .ipynb 파일을 구글 Colab에서 바로 열 수 있습니다. 이때 구글에 로그인을 해야 합니다.\n",
        "2. 아무 셀이나 선택한 후 `Ctrl+Enter`를 눌러 실행해보면 **[경고: 이 노트는 Google에서 작성하지 않았습니다]**라고 뜨는데 `실행 전에 모든 런타임 재설정`을 선택한 채로 `무시하고 계속하기`를 눌러줍니다.  \n",
        "3. **[모든 런타임 재설정]** 이 뜰 텐데 `예`를 눌러줍니다.  \n",
        "4. 잠시 구글 서버의 배치가 되면서 우상단에 `연결중` -> `초기화중` -> `연결됨`이 뜨면서 실행이 가능한 상태가 됩니다.  \n",
        "\n",
        "**구글 Colab에서 실습후 저장하는법**  \n",
        "**쉽게 실행보는법**을 따라오셨다면 Colab에서 임시 노트북으로 열리기 때문에 `파일`->`드라이브로 저장`을 눌러서 여러분의 구글 드라이브에 저장하거나 `파일` -> `.ipynb 다운로드`를 눌러서 다운로드 해줍시다.   \n",
        "\n",
        "*Written by. 조재영(whwodud9@kaist.ac.kr) 2019.01.21 *"
      ]
    },
    {
      "metadata": {
        "id": "ZxayrzI-h8BE",
        "colab_type": "text"
      },
      "cell_type": "markdown",
      "source": [
        "### Install Pytorch 1.0 (For Google Colab)"
      ]
    },
    {
      "metadata": {
        "id": "-TX5DoQMh8BG",
        "colab_type": "code",
        "outputId": "f77076dd-a1d3-42d6-8806-bab7b6eb8ec1",
        "colab": {
          "base_uri": "https://localhost:8080/",
          "height": 72
        }
      },
      "cell_type": "code",
      "source": [
        "#구글 Colab에서 실행할 때는 이 주석을 해제하시고 실행해서 pytorch 1.0을 깔아주세요!\n",
        "!pip install -q torch==1.0.0 torchvision\n",
        "import torch\n",
        "print(torch.__version__)"
      ],
      "execution_count": 1,
      "outputs": [
        {
          "output_type": "stream",
          "text": [
            "tcmalloc: large alloc 1073750016 bytes == 0x557509cb2000 @  0x7ff20f0622a4 0x5574a895ff18 0x5574a8a53a85 0x5574a89734ca 0x5574a8978232 0x5574a8970d0a 0x5574a89785fe 0x5574a8970d0a 0x5574a89785fe 0x5574a8970d0a 0x5574a89785fe 0x5574a8970d0a 0x5574a8978c38 0x5574a8970d0a 0x5574a89785fe 0x5574a8970d0a 0x5574a89785fe 0x5574a8978232 0x5574a8978232 0x5574a8970d0a 0x5574a8978c38 0x5574a8978232 0x5574a8970d0a 0x5574a8978c38 0x5574a8970d0a 0x5574a8978c38 0x5574a8970d0a 0x5574a89785fe 0x5574a8970d0a 0x5574a8970629 0x5574a89a161f\n",
            "1.0.0\n"
          ],
          "name": "stdout"
        }
      ]
    },
    {
      "metadata": {
        "colab_type": "text",
        "id": "23sQEXhSfY4I"
      },
      "cell_type": "markdown",
      "source": [
        "### 1. Data Preparation"
      ]
    },
    {
      "metadata": {
        "id": "RFNptzirh8BN",
        "colab_type": "text"
      },
      "cell_type": "markdown",
      "source": [
        "**Data Set**  \n",
        "$$X_{train} \\in \\mathcal{R}^{50000 \\times 784}, Y_{train} \\in \\mathcal{Z}^{50000}$$  \n",
        "$$X_{val} \\in \\mathcal{R}^{10000 \\times 784}, Y_{val} \\in \\mathcal{Z}^{10000}$$  \n",
        "$$X_{test} \\in \\mathcal{R}^{10000 \\times 784}, Y_{test} \\in \\mathcal{Z}^{10000}$$"
      ]
    },
    {
      "metadata": {
        "id": "2XRvLGmAh8BP",
        "colab_type": "code",
        "outputId": "d795edf2-65f5-48fb-ea2f-81d1b2fcc8cf",
        "colab": {
          "base_uri": "https://localhost:8080/",
          "height": 140
        }
      },
      "cell_type": "code",
      "source": [
        "import torch\n",
        "from torchvision import datasets, transforms\n",
        "import torch.nn as nn\n",
        "\n",
        "\n",
        "batch_size = 128\n",
        "train_dataset = datasets.MNIST('./data', train=True, download=True,\n",
        "                   transform=transforms.Compose([\n",
        "                       transforms.ToTensor(),\n",
        "                       transforms.Normalize((0.1307,), (0.3081,))\n",
        "                   ]))\n",
        "test_dataset =  datasets.MNIST('./data', train=False, download=True,\n",
        "                   transform=transforms.Compose([\n",
        "                       transforms.ToTensor(),\n",
        "                       transforms.Normalize((0.1307,), (0.3081,))\n",
        "                   ]))\n",
        "train_dataset, val_dataset = torch.utils.data.random_split(train_dataset, [50000, 10000])\n",
        "print(len(train_dataset), len(val_dataset), len(test_dataset))\n",
        "\n",
        "train_loader = torch.utils.data.DataLoader(train_dataset, batch_size=128, shuffle=True)\n",
        "val_loader = torch.utils.data.DataLoader(val_dataset, batch_size=128, shuffle=False)\n",
        "test_loader = torch.utils.data.DataLoader(test_dataset, batch_size=128, shuffle=False)"
      ],
      "execution_count": 2,
      "outputs": [
        {
          "output_type": "stream",
          "text": [
            "Downloading http://yann.lecun.com/exdb/mnist/train-images-idx3-ubyte.gz\n",
            "Downloading http://yann.lecun.com/exdb/mnist/train-labels-idx1-ubyte.gz\n",
            "Downloading http://yann.lecun.com/exdb/mnist/t10k-images-idx3-ubyte.gz\n",
            "Downloading http://yann.lecun.com/exdb/mnist/t10k-labels-idx1-ubyte.gz\n",
            "Processing...\n",
            "Done!\n",
            "(50000, 10000, 10000)\n"
          ],
          "name": "stdout"
        }
      ]
    },
    {
      "metadata": {
        "id": "0QaTDm25h8BX",
        "colab_type": "text"
      },
      "cell_type": "markdown",
      "source": [
        "### Inspecting Dataset"
      ]
    },
    {
      "metadata": {
        "id": "jjqlOtAJh8BY",
        "colab_type": "code",
        "outputId": "b721aca7-37d4-4f06-beff-c258fc20d941",
        "colab": {
          "base_uri": "https://localhost:8080/",
          "height": 653
        }
      },
      "cell_type": "code",
      "source": [
        "examples = enumerate(train_loader)\n",
        "batch_idx, (example_data, example_targets) = next(examples)  \n",
        "\n",
        "import matplotlib.pyplot as plt\n",
        "\n",
        "fig = plt.figure(figsize=(15, 9))\n",
        "for i in range(6):\n",
        "    plt.subplot(2,3,i+1)\n",
        "    plt.tight_layout()\n",
        "    plt.imshow(example_data[i][0], cmap='gray', interpolation='none')\n",
        "    plt.title(\"Ground Truth: {}\".format(example_targets[i]))\n",
        "plt.show()"
      ],
      "execution_count": 3,
      "outputs": [
        {
          "output_type": "display_data",
          "data": {
            "image/png": "[encoded data removed]",
            "text/plain": [
              "<Figure size 1080x648 with 6 Axes>"
            ]
          },
          "metadata": {
            "tags": []
          }
        }
      ]
    },
    {
      "metadata": {
        "colab_type": "text",
        "id": "lEqtbTROlXuB"
      },
      "cell_type": "markdown",
      "source": [
        "### 2. Model Architecture"
      ]
    },
    {
      "metadata": {
        "colab_type": "code",
        "id": "40ht43Q1JpYI",
        "colab": {}
      },
      "cell_type": "code",
      "source": [
        "class LinearModel(nn.Module):\n",
        "    def __init__(self): \n",
        "        super(LinearModel, self).__init__()\n",
        "        self.linear = nn.Linear(in_features=784, out_features=10, bias=True)\n",
        "    \n",
        "    def forward(self, x):\n",
        "        x = self.linear(x)\n",
        "        return x\n",
        "\n",
        "class MLPModel_l1(nn.Module):\n",
        "    def __init__(self, in_dim, out_dim, hid_dim):\n",
        "        super(MLPModel_l1, self).__init__()\n",
        "        self.linear1 = nn.Linear(in_dim, hid_dim)\n",
        "        self.linear2 = nn.Linear(hid_dim, out_dim)\n",
        "        self.act = nn.ReLU()\n",
        "        \n",
        "    def forward(self, x):\n",
        "        x = self.linear1(x)\n",
        "        x = self.act(x)\n",
        "        x = self.linear2(x)\n",
        "        return x\n",
        "        \n",
        "class MLPModel_l2(nn.Module):\n",
        "    def __init__(self, in_dim, out_dim, hid_dim_1, hid_dim_2):\n",
        "        super(MLPModel_l2, self).__init__()\n",
        "        self.linear1 = nn.Linear(in_dim, hid_dim_1)\n",
        "        self.linear2 = nn.Linear(hid_dim_1, hid_dim_2)\n",
        "        self.linear3 = nn.Linear(hid_dim_2, out_dim)\n",
        "        self.act = nn.ReLU()\n",
        "        \n",
        "    def forward(self, x):\n",
        "        x = self.linear1(x)\n",
        "        x = self.act(x)\n",
        "        x = self.linear2(x)\n",
        "        x = self.act(x)\n",
        "        x = self.linear3(x)\n",
        "        return x\n",
        "        \n",
        "class MLPModel_l10(nn.Module):\n",
        "    def __init__(self, in_dim, out_dim, hid_dim):\n",
        "        super(MLPModel_l10, self).__init__()\n",
        "        self.linear1 = nn.Linear(in_dim, hid_dim)\n",
        "        self.linear2 = nn.Linear(hid_dim, hid_dim)\n",
        "        self.linear3 = nn.Linear(hid_dim, hid_dim)\n",
        "        self.linear4 = nn.Linear(hid_dim, hid_dim)\n",
        "        self.linear5 = nn.Linear(hid_dim, hid_dim)\n",
        "        self.linear6 = nn.Linear(hid_dim, hid_dim)\n",
        "        self.linear7 = nn.Linear(hid_dim, hid_dim)\n",
        "        self.linear8 = nn.Linear(hid_dim, hid_dim)\n",
        "        self.linear9 = nn.Linear(hid_dim, hid_dim)\n",
        "        self.linear10 = nn.Linear(hid_dim, hid_dim)\n",
        "        self.linear11 = nn.Linear(hid_dim, out_dim)\n",
        "        self.act = nn.ReLU()\n",
        "        \n",
        "    def forward(self, x):\n",
        "        x = self.linear1(x)\n",
        "        x = self.act(x)\n",
        "        x = self.linear2(x)\n",
        "        x = self.act(x)\n",
        "        x = self.linear3(x)\n",
        "        x = self.act(x)\n",
        "        x = self.linear4(x)\n",
        "        x = self.act(x)\n",
        "        x = self.linear5(x)\n",
        "        x = self.act(x)\n",
        "        x = self.linear6(x)\n",
        "        x = self.act(x)\n",
        "        x = self.linear7(x)\n",
        "        x = self.act(x)\n",
        "        x = self.linear8(x)\n",
        "        x = self.act(x)\n",
        "        x = self.linear9(x)\n",
        "        x = self.act(x)\n",
        "        x = self.linear10(x)\n",
        "        x = self.act(x)\n",
        "        x = self.linear11(x)\n",
        "        return x"
      ],
      "execution_count": 0,
      "outputs": []
    },
    {
      "metadata": {
        "colab_type": "text",
        "id": "FgdSvskSotgI"
      },
      "cell_type": "markdown",
      "source": [
        "### 3. Cost Function Define (Loss Function Define)  "
      ]
    },
    {
      "metadata": {
        "colab_type": "code",
        "id": "yzNkZ_uwnufC",
        "colab": {}
      },
      "cell_type": "code",
      "source": [
        "cls_loss = nn.CrossEntropyLoss()"
      ],
      "execution_count": 0,
      "outputs": []
    },
    {
      "metadata": {
        "id": "3ol2IcQDh8Bp",
        "colab_type": "text"
      },
      "cell_type": "markdown",
      "source": [
        "### 4. Train & Evaluation"
      ]
    },
    {
      "metadata": {
        "scrolled": false,
        "id": "SzqQVN8Mh8Br",
        "colab_type": "code",
        "outputId": "b90584e1-144d-4c45-c145-89613c6e9d58",
        "colab": {
          "base_uri": "https://localhost:8080/",
          "height": 562
        }
      },
      "cell_type": "code",
      "source": [
        "import torch.optim as optim\n",
        "from sklearn.metrics import accuracy_score\n",
        "\n",
        "# ====== Construct Model ====== #\n",
        "# model = LinearModel()\n",
        "model = MLPModel_l1(784, 10, 10) #왜 128자리에 1이 오면 안됫을까? 차원은 어떻게 결정되는가?\n",
        "#model = MLPModel_l2(784, 10, 1000, 1000)\n",
        "#model = MLPModel_l10(784, 10, 100)\n",
        "print('Number of {} parameters'.format(sum(p.numel() for p in model.parameters() if p.requires_grad)))\n",
        "\n",
        "# ===== Construct Optimizer ====== #\n",
        "lr = 0.005 \n",
        "optimizer = optim.SGD(model.parameters(), lr=lr) \n",
        "\n",
        "list_epoch = [] \n",
        "list_train_loss = []\n",
        "list_val_loss = []\n",
        "list_acc = []\n",
        "list_acc_epoch = []\n",
        "\n",
        "epoch = 30\n",
        "for i in range(epoch):\n",
        "    \n",
        "    # ====== Train ====== #\n",
        "    train_loss = 0\n",
        "    model.train() \n",
        "    optimizer.zero_grad() \n",
        "    \n",
        "    for input_X, true_y in train_loader:\n",
        "        input_X = input_X.squeeze() ### 이미 input_X의 type이 torch.tensor\n",
        "        #print input_X.shape\n",
        "        input_X = input_X.view(-1, 784) ### .view()는 28x28 짜리를 reshape 해서 784x1로 만들고자\n",
        "        #print input_X.shape\n",
        "        pred_y = model(input_X) #왜 model이란 object는 input_X를 받을까?\n",
        "\n",
        "        loss = cls_loss(pred_y.squeeze(), true_y)\n",
        "        loss.backward() \n",
        "        optimizer.step() \n",
        "        train_loss += loss.detach().numpy()\n",
        "    train_loss = train_loss / len(train_loader)\n",
        "    list_train_loss.append(train_loss)\n",
        "    list_epoch.append(i)\n",
        "    \n",
        "    \n",
        "    # ====== Validation ====== #\n",
        "    val_loss = 0\n",
        "    model.eval()\n",
        "    optimizer.zero_grad()\n",
        "    \n",
        "    for input_X, true_y in val_loader:\n",
        "        input_X = input_X.squeeze()\n",
        "        input_X = input_X.view(-1, 784)\n",
        "        pred_y = model(input_X)\n",
        "\n",
        "        loss = cls_loss(pred_y.squeeze(), true_y)\n",
        "        val_loss += loss.detach().numpy()\n",
        "    val_loss = val_loss / len(val_loader)\n",
        "    list_val_loss.append(val_loss)\n",
        "\n",
        "\n",
        "    # ====== Evaluation ======= #\n",
        "    correct = 0\n",
        "    model.eval()\n",
        "    optimizer.zero_grad()\n",
        "\n",
        "    for input_X, true_y in test_loader:\n",
        "        input_X = input_X.squeeze()\n",
        "        input_X = input_X.view(-1, 784)\n",
        "        pred_y = model(input_X).max(1, keepdim=True)[1].squeeze() #왜 여기서는 keepdim=True 후 squeeze를 쓴 걸까?\n",
        "        correct += pred_y.eq(true_y).sum() #.eq()는 pred_y와 true_y가 같으면 1, 다르면 0\n",
        "\n",
        "    #print correct.numpy()\n",
        "    #print len(test_loader.dataset)\n",
        "    acc = correct.numpy() * 100.0 /len(test_loader.dataset) #.numpy()는 .torch()후 tensor가 됫던 것을 다시 ndarray로 변환함.\n",
        "    list_acc.append(acc)\n",
        "    list_acc_epoch.append(i)\n",
        "    \n",
        "    print('Epoch: {}, Train Loss: {}, Val Loss: {}, Test Acc: {}%'.format(i, train_loss, val_loss, acc))"
      ],
      "execution_count": 97,
      "outputs": [
        {
          "output_type": "stream",
          "text": [
            "Number of 7960 parameters\n",
            "Epoch: 0, Train Loss: 1.53471828521, Val Loss: 1.81336473061, Test Acc: 53.45%\n",
            "Epoch: 1, Train Loss: 1.57569124662, Val Loss: 1.58443797993, Test Acc: 50.51%\n",
            "Epoch: 2, Train Loss: 1.3716059853, Val Loss: 1.42383718943, Test Acc: 58.88%\n",
            "Epoch: 3, Train Loss: 1.21120936517, Val Loss: 1.27998772377, Test Acc: 62.99%\n",
            "Epoch: 4, Train Loss: 1.07563780397, Val Loss: 1.23067723271, Test Acc: 69.04%\n",
            "Epoch: 5, Train Loss: 0.973886668987, Val Loss: 1.00114605623, Test Acc: 73.33%\n",
            "Epoch: 6, Train Loss: 0.858260847037, Val Loss: 1.051724157, Test Acc: 72.07%\n",
            "Epoch: 7, Train Loss: 0.819043566428, Val Loss: 0.978670136838, Test Acc: 76.94%\n",
            "Epoch: 8, Train Loss: 0.789752759516, Val Loss: 1.05926492546, Test Acc: 77.32%\n",
            "Epoch: 9, Train Loss: 0.783141404009, Val Loss: 0.972255166196, Test Acc: 74.28%\n",
            "Epoch: 10, Train Loss: 0.807511674931, Val Loss: 1.05167626354, Test Acc: 74.38%\n",
            "Epoch: 11, Train Loss: 0.832721427883, Val Loss: 1.10816258871, Test Acc: 69.68%\n",
            "Epoch: 12, Train Loss: 0.858546708017, Val Loss: 0.998025888884, Test Acc: 76.07%\n",
            "Epoch: 13, Train Loss: 0.778859784155, Val Loss: 1.00372821017, Test Acc: 74.17%\n",
            "Epoch: 14, Train Loss: 0.782839994982, Val Loss: 1.05784677403, Test Acc: 73.41%\n",
            "Epoch: 15, Train Loss: 0.780686771168, Val Loss: 1.03855875248, Test Acc: 73.9%\n",
            "Epoch: 16, Train Loss: 0.796961615534, Val Loss: 1.01990598063, Test Acc: 75.43%\n",
            "Epoch: 17, Train Loss: 0.795852500917, Val Loss: 1.01386310896, Test Acc: 75.69%\n",
            "Epoch: 18, Train Loss: 0.792028225063, Val Loss: 1.08290186336, Test Acc: 70.7%\n",
            "Epoch: 19, Train Loss: 0.821526535942, Val Loss: 0.996688700929, Test Acc: 75.29%\n",
            "Epoch: 20, Train Loss: 0.80202963529, Val Loss: 0.99203002981, Test Acc: 70.83%\n",
            "Epoch: 21, Train Loss: 0.813945725903, Val Loss: 1.03926708842, Test Acc: 76.45%\n",
            "Epoch: 22, Train Loss: 0.789541746268, Val Loss: 1.16135313843, Test Acc: 73.96%\n",
            "Epoch: 23, Train Loss: 0.849836722512, Val Loss: 1.02892132726, Test Acc: 75.07%\n",
            "Epoch: 24, Train Loss: 0.799196711663, Val Loss: 0.992029811385, Test Acc: 76.11%\n",
            "Epoch: 25, Train Loss: 0.737290533074, Val Loss: 0.878723778302, Test Acc: 77.27%\n",
            "Epoch: 26, Train Loss: 0.698306234901, Val Loss: 0.922917598788, Test Acc: 77.62%\n",
            "Epoch: 27, Train Loss: 0.685982451033, Val Loss: 0.844374243594, Test Acc: 78.54%\n",
            "Epoch: 28, Train Loss: 0.66690297017, Val Loss: 1.00032501658, Test Acc: 79.29%\n",
            "Epoch: 29, Train Loss: 0.691295133222, Val Loss: 0.977620254589, Test Acc: 77.73%\n"
          ],
          "name": "stdout"
        }
      ]
    },
    {
      "metadata": {
        "id": "vWvyY8pJh8Bw",
        "colab_type": "text"
      },
      "cell_type": "markdown",
      "source": [
        "### 5. Report Experiment  \n",
        "학습 과정에서 기록했던 train_loss와 val_loss를 그려봅시다.   \n",
        "Loss가 꾸준히 줄어드는지 확인하고 val_loss가 증가하기 시킨다면 그 이상의 학습은 점점 모델의 성능을 망침을 뜻합니다. \n",
        "그 옆에는 Epoch에 따라서 MAE metric이 얼마나 감소하는지 확인해봅시다."
      ]
    },
    {
      "metadata": {
        "scrolled": true,
        "id": "7CeQ3_woh8Bx",
        "colab_type": "code",
        "outputId": "dabe48de-f268-4eb5-fefd-6175e5b82cee",
        "colab": {
          "base_uri": "https://localhost:8080/",
          "height": 349
        }
      },
      "cell_type": "code",
      "source": [
        "fig = plt.figure(figsize=(15,5))\n",
        "\n",
        "# ====== Loss Fluctuation ====== #\n",
        "ax1 = fig.add_subplot(1, 2, 1)\n",
        "ax1.plot(list_epoch, list_train_loss, label='train_loss')\n",
        "ax1.plot(list_epoch, list_val_loss, '--', label='val_loss')\n",
        "ax1.set_xlabel('epoch')\n",
        "ax1.set_ylabel('loss')\n",
        "ax1.grid()\n",
        "ax1.legend()\n",
        "ax1.set_title('epoch vs loss')\n",
        "\n",
        "# ====== Metric Fluctuation ====== #\n",
        "ax2 = fig.add_subplot(1, 2, 2)\n",
        "ax2.plot(list_acc_epoch, list_acc, marker='x', label='Accuracy metric')\n",
        "ax2.set_xlabel('epoch')\n",
        "ax2.set_ylabel('Acc')\n",
        "ax2.grid()\n",
        "ax2.legend()\n",
        "ax2.set_title('epoch vs Accuracy')\n",
        "\n",
        "plt.show()"
      ],
      "execution_count": 98,
      "outputs": [
        {
          "output_type": "display_data",
          "data": {
            "image/png": "[encoded data removed]",
            "text/plain": [
              "<Figure size 1080x360 with 2 Axes>"
            ]
          },
          "metadata": {
            "tags": []
          }
        }
      ]
    }
  ]
}